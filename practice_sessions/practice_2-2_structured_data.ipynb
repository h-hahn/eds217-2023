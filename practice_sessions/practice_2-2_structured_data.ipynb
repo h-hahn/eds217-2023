{
 "cells": [
  {
   "cell_type": "markdown",
   "metadata": {
    "slideshow": {
     "slide_type": "slide"
    }
   },
   "source": [
    "| [⬅️ Previous Session](practice_2-1_control_flow_statements.ipynb) | [🏠 Course Home](../index.ipynb) | [➡️ Next Session](practice_3-1_numpy.ipynb) |\n",
    "\n",
    "# Practice 1-4: Structured Data in Python"
   ]
  },
  {
   "cell_type": "markdown",
   "metadata": {},
   "source": [
    "## 📚  <b> Practice 1. </b> \n",
    "\n",
    "Dictionaries are an extremely common data structure. Often data is easiest to store according to keys, where each row of data has a unique key. \n",
    "\n",
    "For example, a dictionary of students might have a key for each student's name or id, and then a set of values that are associated with that student.\n",
    "\n",
    "### Make a dictionary of your peers.\n",
    "\n",
    "Come up with 3-4 questions and ask 5-6 of your peers to give answers to each one. The questions can be anything you want, but they should be questions that can be answered with a single word or number.\n",
    "\n",
    "For example, you might ask:\n",
    "- What is your favorite color? (pretty weak question)\n",
    "- How many siblings do you have? (ok, but not great)\n",
    "- What is your favorite genre of film? (better)\n",
    "- On a scale of 1-10, how well do you feel that you understand python dictionaries? (better still)\n",
    "\n",
    "Make sure you have a key for each person, and then a set of values for each question. \n",
    "\n",
    "Based on each person's responses, build a dictionary in the cell below:\n",
    "\n",
    "(note: You will end up with a dictionary of dictionaries)\n",
    "\n",
    "```python\n",
    "# Example:\n",
    "my_dict = {\n",
    "    'person1': {\n",
    "        'question1': 'answer1',\n",
    "        'question2': 'answer2',\n",
    "        'question3': 'answer3',\n",
    "        'question4': 'answer4',\n",
    "    },\n",
    "    'person2': {\n",
    "        'question1': 'answer1',\n",
    "        'question2': 'answer2',\n",
    "        'question3': 'answer3',\n",
    "        'question4': 'answer4',\n",
    "    },\n",
    "    'person3': {\n",
    "        'question1': 'answer1',\n",
    "        'question2': 'answer2',\n",
    "        'question3': 'answer3',\n",
    "        'question4': 'answer4',\n",
    "    },\n",
    "}\n",
    "```"
   ]
  },
  {
   "cell_type": "code",
   "execution_count": 4,
   "metadata": {},
   "outputs": [],
   "source": [
    "my_dict = {\n",
    "    'Diana': {\n",
    "        'Who is your favorite person in the class?': 'Hope',\n",
    "        'What is your favorite breed of dog?': 'German Shepherd',\n",
    "        'What is your favorite cuisine?': 'Mexican',\n",
    "        'what is your favorite type of wood?': 'Maple',\n",
    "    },\n",
    "    'Anna': {\n",
    "        'Who is your favorite person in the class?': 'Anna',\n",
    "        'What is your favorite breed of dog?': 'Mini Golden Doodle',\n",
    "        'What is your favorite cuisine?': 'Korean',\n",
    "        'what is your favorite type of wood?': 'Mahogany',\n",
    "    },\n",
    "    'Liane': {\n",
    "        'Who is your favorite person in the class?': 'Hope',\n",
    "        'What is your favorite breed of dog?': 'Aussie',\n",
    "        'What is your favorite cuisine?': 'Persian',\n",
    "        'what is your favorite type of wood?': 'Hinoki',\n",
    "    },\n",
    "    'Olivia': {\n",
    "        'Who is your favorite person in the class?': 'Hope',\n",
    "        'What is your favorite breed of dog?': 'Dalmatian',\n",
    "        'What is your favorite cuisine?': 'Sushi',\n",
    "        'what is your favorite type of wood?': 'Cherry',\n",
    "    },\n",
    "     'Flora': {\n",
    "        'Who is your favorite person in the class?': \"Rosemary/'s rats\",\n",
    "        'What is your favorite breed of dog?': 'Toller',\n",
    "        'What is your favorite cuisine?': 'Asian',\n",
    "        'what is your favorite type of wood?': 'Oak',\n",
    "    },\n",
    "}"
   ]
  },
  {
   "cell_type": "markdown",
   "metadata": {},
   "source": [
    "## Dictionary to dataframe\n",
    "\n",
    "Now that you have a dictionary, you can convert it to a dataframe.\n",
    "\n",
    "### Convert your dictionary to a dataframe\n",
    "\n",
    "Use the `pd.DataFrame()` function to convert your dictionary to a dataframe.\n",
    "\n",
    "```python\n",
    "import pandas as pd\n",
    "\n",
    "# Convert a dictionary to a dataframe\n",
    "df = pd.DataFrame(my_dict)\n",
    "```\n"
   ]
  },
  {
   "cell_type": "code",
   "execution_count": 8,
   "metadata": {},
   "outputs": [],
   "source": [
    "import pandas as pd\n",
    "\n",
    "question_df = pd.DataFrame(my_dict)"
   ]
  },
  {
   "cell_type": "markdown",
   "metadata": {},
   "source": [
    "\n",
    "### Investigate your dataframe using the following functions:\n",
    "\n",
    "- `df.head()`\n",
    "- `df.tail()`\n",
    "- `df.info()`\n",
    "\n"
   ]
  },
  {
   "cell_type": "code",
   "execution_count": 14,
   "metadata": {},
   "outputs": [
    {
     "data": {
      "text/html": [
       "<div>\n",
       "<style scoped>\n",
       "    .dataframe tbody tr th:only-of-type {\n",
       "        vertical-align: middle;\n",
       "    }\n",
       "\n",
       "    .dataframe tbody tr th {\n",
       "        vertical-align: top;\n",
       "    }\n",
       "\n",
       "    .dataframe thead th {\n",
       "        text-align: right;\n",
       "    }\n",
       "</style>\n",
       "<table border=\"1\" class=\"dataframe\">\n",
       "  <thead>\n",
       "    <tr style=\"text-align: right;\">\n",
       "      <th></th>\n",
       "      <th>Diana</th>\n",
       "      <th>Anna</th>\n",
       "      <th>Liane</th>\n",
       "      <th>Olivia</th>\n",
       "      <th>Flora</th>\n",
       "    </tr>\n",
       "  </thead>\n",
       "  <tbody>\n",
       "    <tr>\n",
       "      <th>Who is your favorite person in the class?</th>\n",
       "      <td>Hope</td>\n",
       "      <td>Anna</td>\n",
       "      <td>Hope</td>\n",
       "      <td>Hope</td>\n",
       "      <td>Rosemary/'s rats</td>\n",
       "    </tr>\n",
       "    <tr>\n",
       "      <th>What is your favorite breed of dog?</th>\n",
       "      <td>German Shepherd</td>\n",
       "      <td>Mini Golden Doodle</td>\n",
       "      <td>Aussie</td>\n",
       "      <td>Dalmatian</td>\n",
       "      <td>Toller</td>\n",
       "    </tr>\n",
       "    <tr>\n",
       "      <th>What is your favorite cuisine?</th>\n",
       "      <td>Mexican</td>\n",
       "      <td>Korean</td>\n",
       "      <td>Persian</td>\n",
       "      <td>Sushi</td>\n",
       "      <td>Asian</td>\n",
       "    </tr>\n",
       "    <tr>\n",
       "      <th>what is your favorite type of wood?</th>\n",
       "      <td>Maple</td>\n",
       "      <td>Mahogany</td>\n",
       "      <td>Hinoki</td>\n",
       "      <td>Cherry</td>\n",
       "      <td>Oak</td>\n",
       "    </tr>\n",
       "  </tbody>\n",
       "</table>\n",
       "</div>"
      ],
      "text/plain": [
       "                                                     Diana   \n",
       "Who is your favorite person in the class?             Hope  \\\n",
       "What is your favorite breed of dog?        German Shepherd   \n",
       "What is your favorite cuisine?                     Mexican   \n",
       "what is your favorite type of wood?                  Maple   \n",
       "\n",
       "                                                         Anna    Liane   \n",
       "Who is your favorite person in the class?                Anna     Hope  \\\n",
       "What is your favorite breed of dog?        Mini Golden Doodle   Aussie   \n",
       "What is your favorite cuisine?                         Korean  Persian   \n",
       "what is your favorite type of wood?                  Mahogany   Hinoki   \n",
       "\n",
       "                                              Olivia             Flora  \n",
       "Who is your favorite person in the class?       Hope  Rosemary/'s rats  \n",
       "What is your favorite breed of dog?        Dalmatian            Toller  \n",
       "What is your favorite cuisine?                 Sushi             Asian  \n",
       "what is your favorite type of wood?           Cherry               Oak  "
      ]
     },
     "execution_count": 14,
     "metadata": {},
     "output_type": "execute_result"
    }
   ],
   "source": [
    "question_df.head()\n",
    "question_df.tail()\n",
    "#question_df.info()"
   ]
  },
  {
   "cell_type": "markdown",
   "metadata": {},
   "source": [
    "Is your dataframe what you expected? If not, what is different? Why?? How would you need to change your data structure to get the dataframe you expected?"
   ]
  },
  {
   "cell_type": "code",
   "execution_count": null,
   "metadata": {},
   "outputs": [],
   "source": []
  },
  {
   "cell_type": "markdown",
   "metadata": {},
   "source": [
    "\n",
    "\n",
    "`df.transpose()` might be helpful here. What does it do?\n",
    "create a new dataframe that is a transposed version of your original dataframe.\n",
    "\n",
    "```python\n",
    "# Transpose a dataframe\n",
    "df_transposed = df.transpose()\n",
    "```"
   ]
  },
  {
   "cell_type": "code",
   "execution_count": 18,
   "metadata": {},
   "outputs": [],
   "source": [
    "# Transpose your dataframe so that the people are the rows and the questions are the columns.\n",
    "\n",
    "df_transposed = question_df.transpose()"
   ]
  },
  {
   "cell_type": "markdown",
   "metadata": {},
   "source": [
    "### Visualize/summarize your dataframe using one or more of the following functions:\n",
    "\n",
    "- `df.describe()`\n",
    "- `df.plot()`\n",
    "- `df.hist()`"
   ]
  },
  {
   "cell_type": "code",
   "execution_count": 23,
   "metadata": {},
   "outputs": [
    {
     "ename": "TypeError",
     "evalue": "PlotAccessor.scatter() missing 2 required positional arguments: 'x' and 'y'",
     "output_type": "error",
     "traceback": [
      "\u001b[0;31m---------------------------------------------------------------------------\u001b[0m",
      "\u001b[0;31mTypeError\u001b[0m                                 Traceback (most recent call last)",
      "\u001b[1;32m/Users/hopehahn/Documents/MEDS/COURSES/MEDS_eds217/eds217-2023/practice_sessions/practice_2-2_structured_data.ipynb Cell 13\u001b[0m line \u001b[0;36m2\n\u001b[1;32m      <a href='vscode-notebook-cell:/Users/hopehahn/Documents/MEDS/COURSES/MEDS_eds217/eds217-2023/practice_sessions/practice_2-2_structured_data.ipynb#X15sZmlsZQ%3D%3D?line=0'>1</a>\u001b[0m df_transposed\u001b[39m.\u001b[39mdescribe()\n\u001b[0;32m----> <a href='vscode-notebook-cell:/Users/hopehahn/Documents/MEDS/COURSES/MEDS_eds217/eds217-2023/practice_sessions/practice_2-2_structured_data.ipynb#X15sZmlsZQ%3D%3D?line=1'>2</a>\u001b[0m df_transposed\u001b[39m.\u001b[39;49mplot\u001b[39m.\u001b[39;49mscatter()\n",
      "\u001b[0;31mTypeError\u001b[0m: PlotAccessor.scatter() missing 2 required positional arguments: 'x' and 'y'"
     ]
    }
   ],
   "source": [
    "df_transposed.describe()\n",
    "#df_transposed.plot()\n",
    "#df_transposed.hist()"
   ]
  },
  {
   "cell_type": "markdown",
   "metadata": {},
   "source": [
    "## 📚  <b> Practice 2. </b>\n",
    "\n",
    "### Structured data search: Find structured data on the internet and convert it to a dataframe.\n",
    "\n",
    "You're looking for data that is in a table format, like a spreadsheet, but not available as an easy to download `.csv` or `.excel` file. This turns out to describe a lot of data!\n",
    "\n",
    "Often you can find this kind of data on wikipedia, or on government websites, or in research articles that contain tables of results.\n"
   ]
  },
  {
   "cell_type": "markdown",
   "metadata": {},
   "source": []
  },
  {
   "cell_type": "code",
   "execution_count": null,
   "metadata": {},
   "outputs": [],
   "source": []
  },
  {
   "cell_type": "markdown",
   "metadata": {},
   "source": [
    "### Convert your data to a dataframe"
   ]
  },
  {
   "cell_type": "code",
   "execution_count": 24,
   "metadata": {},
   "outputs": [],
   "source": [
    "toxo_table = {\n",
    "    'France': {\n",
    "        'Years': '1992',\n",
    "        'Type of food': 'Undercooked or cured meat products',\n",
    "    },\n",
    "    'South Korea': {\n",
    "        'Years': '1994',\n",
    "        'Type of food': 'Uncooked pork',\n",
    "    },\n",
    "    'Denmark-Belgium-Italy-Switzerland-Norway': {\n",
    "        'Years': '1994-1995',\n",
    "        'Type of food': 'Undercooked or cured meat products',\n",
    "    },\n",
    "    'India': {\n",
    "        'Years': '2001',\n",
    "        'Type of food': 'Contaminated water',\n",
    "    },\n",
    "    'Brazil': {\n",
    "        'Years': '2001-2002',\n",
    "        'Type of food': 'Contaminated water and/or foods',\n",
    "    },\n",
    "    'Brazil': {\n",
    "        'Years': '2001-2002',\n",
    "        'Type of food': 'Ice cream prepared with contaminated water',\n",
    "    },\n",
    "    'India': {\n",
    "        'Years': '2004',\n",
    "        'Type of food': 'Contaminated water',\n",
    "    },\n",
    "    'United States': {\n",
    "        'Years': '1999-2004',\n",
    "        'Type of food': 'Contaminated water',\n",
    "    },\n",
    "    'Suriname': {\n",
    "        'Years': '2005',\n",
    "        'Type of food': 'Contaminated water',\n",
    "    },\n",
    "    'Poland': {\n",
    "        'Years': '2006-2008',\n",
    "        'Type of food': 'Fruits and vegetables',\n",
    "    },\n",
    "    'Brazil': {\n",
    "        'Years': '2009',\n",
    "        'Type of food': 'Vegetable',\n",
    "    },\n",
    "    'United States': {\n",
    "        'Years': '2009-2010',\n",
    "        'Type of food': 'Contaminated water',\n",
    "    },\n",
    "    'Tunisia': {\n",
    "        'Years': '2014',\n",
    "        'Type of food': 'Unpasteurized goats milk',\n",
    "    },\n",
    "}"
   ]
  },
  {
   "cell_type": "code",
   "execution_count": 28,
   "metadata": {},
   "outputs": [],
   "source": [
    "toxo_df = pd.DataFrame(toxo_table)\n",
    "toxo_transposed = toxo_df.transpose()"
   ]
  },
  {
   "cell_type": "markdown",
   "metadata": {},
   "source": [
    "## Explore your dataframe using the following functions:\n",
    "\n",
    "- `df.describe()`\n",
    "- `df.plot()`\n",
    "- `df.hist()`"
   ]
  },
  {
   "cell_type": "code",
   "execution_count": 31,
   "metadata": {},
   "outputs": [
    {
     "data": {
      "text/plain": [
       "<Axes: >"
      ]
     },
     "execution_count": 31,
     "metadata": {},
     "output_type": "execute_result"
    },
    {
     "data": {
      "image/png": "[encoded data removed]",
      "text/plain": [
       "<Figure size 640x480 with 1 Axes>"
      ]
     },
     "metadata": {},
     "output_type": "display_data"
    }
   ],
   "source": [
    "toxo_transposed.describe()\n",
    "toxo_transposed['Type of food'].hist()"
   ]
  }
 ],
 "metadata": {
  "kernelspec": {
   "display_name": "Python 3",
   "language": "python",
   "name": "python3"
  },
  "language_info": {
   "codemirror_mode": {
    "name": "ipython",
    "version": 3
   },
   "file_extension": ".py",
   "mimetype": "text/x-python",
   "name": "python",
   "nbconvert_exporter": "python",
   "pygments_lexer": "ipython3",
   "version": "3.10.12"
  }
 },
 "nbformat": 4,
 "nbformat_minor": 4
}
